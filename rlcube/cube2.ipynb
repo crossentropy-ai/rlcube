{
 "cells": [
  {
   "cell_type": "code",
   "execution_count": 1,
   "id": "624c83c1",
   "metadata": {},
   "outputs": [
    {
     "data": {
      "text/plain": [
       "DNN(\n",
       "  (fc_in): Linear(in_features=144, out_features=512, bias=True)\n",
       "  (residual_blocks): ModuleList(\n",
       "    (0-3): 4 x ResidualBlock(\n",
       "      (ln1): LayerNorm((512,), eps=1e-05, elementwise_affine=True)\n",
       "      (fc1): Linear(in_features=512, out_features=1024, bias=True)\n",
       "      (ln2): LayerNorm((1024,), eps=1e-05, elementwise_affine=True)\n",
       "      (fc2): Linear(in_features=1024, out_features=512, bias=True)\n",
       "    )\n",
       "  )\n",
       "  (fc_value): Sequential(\n",
       "    (0): Linear(in_features=512, out_features=64, bias=True)\n",
       "    (1): ReLU()\n",
       "    (2): Linear(in_features=64, out_features=1, bias=True)\n",
       "  )\n",
       "  (fc_policy): Sequential(\n",
       "    (0): Linear(in_features=512, out_features=64, bias=True)\n",
       "    (1): ReLU()\n",
       "    (2): Linear(in_features=64, out_features=12, bias=True)\n",
       "  )\n",
       ")"
      ]
     },
     "execution_count": 1,
     "metadata": {},
     "output_type": "execute_result"
    }
   ],
   "source": [
    "from rlcube.models.models import DNN\n",
    "from rlcube.envs.cube2 import Cube2Env\n",
    "import torch\n",
    "\n",
    "net = DNN()\n",
    "net.load(\"models/model_best.pth\")\n",
    "net.eval()"
   ]
  },
  {
   "cell_type": "code",
   "execution_count": 2,
   "id": "16736f3a",
   "metadata": {},
   "outputs": [
    {
     "name": "stderr",
     "output_type": "stream",
     "text": [
      "100%|██████████| 300/300 [00:02<00:00, 132.06it/s]\n"
     ]
    }
   ],
   "source": [
    "from rlcube.models.search import MonteCarloTree\n",
    "\n",
    "env = Cube2Env()\n",
    "actions = []\n",
    "for _ in range(3):\n",
    "    action = env.action_space.sample()\n",
    "    actions.append(action)\n",
    "    env.step(action)\n",
    "tree = MonteCarloTree(env.obs())"
   ]
  },
  {
   "cell_type": "code",
   "execution_count": 3,
   "id": "aee2a911",
   "metadata": {},
   "outputs": [],
   "source": [
    "node = tree.root"
   ]
  },
  {
   "cell_type": "code",
   "execution_count": 4,
   "id": "048f58c9",
   "metadata": {},
   "outputs": [
    {
     "data": {
      "text/plain": [
       "[np.int64(8), np.int64(1), np.int64(4)]"
      ]
     },
     "execution_count": 4,
     "metadata": {},
     "output_type": "execute_result"
    }
   ],
   "source": [
    "actions"
   ]
  },
  {
   "cell_type": "code",
   "execution_count": 5,
   "id": "00994021",
   "metadata": {},
   "outputs": [
    {
     "data": {
      "text/plain": [
       "tensor([3.4725e+00, 3.3189e+00, 1.2619e-02, 3.1231e-01, 1.1286e-02, 2.5817e-02,\n",
       "        1.6722e-02, 2.1334e-02, 3.4603e+00, 7.5021e-02, 2.5891e-02, 2.8712e-03])"
      ]
     },
     "execution_count": 5,
     "metadata": {},
     "output_type": "execute_result"
    }
   ],
   "source": [
    "node.u()"
   ]
  },
  {
   "cell_type": "code",
   "execution_count": 6,
   "id": "fb9ac54c",
   "metadata": {},
   "outputs": [
    {
     "data": {
      "text/plain": [
       "defaultdict(<function rlcube.models.search.Node.__init__.<locals>.<lambda>()>,\n",
       "            {0: 276,\n",
       "             1: 7,\n",
       "             2: 0,\n",
       "             3: 0,\n",
       "             4: 0,\n",
       "             5: 0,\n",
       "             6: 0,\n",
       "             7: 0,\n",
       "             8: 16,\n",
       "             9: 0,\n",
       "             10: 0,\n",
       "             11: 0})"
      ]
     },
     "execution_count": 6,
     "metadata": {},
     "output_type": "execute_result"
    }
   ],
   "source": [
    "node.N"
   ]
  },
  {
   "cell_type": "code",
   "execution_count": 7,
   "id": "2f8a09d1",
   "metadata": {},
   "outputs": [
    {
     "data": {
      "text/plain": [
       "defaultdict(<function rlcube.models.search.Node.__init__.<locals>.<lambda>()>,\n",
       "            {0: tensor([3.4720]),\n",
       "             1: tensor([1.8959]),\n",
       "             2: 0,\n",
       "             3: 0,\n",
       "             4: 0,\n",
       "             5: 0,\n",
       "             6: 0,\n",
       "             7: 0,\n",
       "             8: tensor([2.7285]),\n",
       "             9: 0,\n",
       "             10: 0,\n",
       "             11: 0})"
      ]
     },
     "execution_count": 7,
     "metadata": {},
     "output_type": "execute_result"
    }
   ],
   "source": [
    "node.W"
   ]
  },
  {
   "cell_type": "code",
   "execution_count": 8,
   "id": "3e341459",
   "metadata": {},
   "outputs": [
    {
     "data": {
      "text/plain": [
       "defaultdict(<function rlcube.models.search.Node.__init__.<locals>.<lambda>()>,\n",
       "            {0: 4,\n",
       "             1: 0,\n",
       "             2: 0,\n",
       "             3: 0,\n",
       "             4: 0,\n",
       "             5: 2,\n",
       "             6: 0,\n",
       "             7: 0,\n",
       "             8: 269,\n",
       "             9: 0,\n",
       "             10: 0,\n",
       "             11: 0})"
      ]
     },
     "execution_count": 8,
     "metadata": {},
     "output_type": "execute_result"
    }
   ],
   "source": [
    "node.children[0].N"
   ]
  },
  {
   "cell_type": "code",
   "execution_count": null,
   "id": "51dddf56",
   "metadata": {},
   "outputs": [],
   "source": [
    "node.children[8].N"
   ]
  }
 ],
 "metadata": {
  "kernelspec": {
   "display_name": ".venv",
   "language": "python",
   "name": "python3"
  },
  "language_info": {
   "codemirror_mode": {
    "name": "ipython",
    "version": 3
   },
   "file_extension": ".py",
   "mimetype": "text/x-python",
   "name": "python",
   "nbconvert_exporter": "python",
   "pygments_lexer": "ipython3",
   "version": "3.12.11"
  }
 },
 "nbformat": 4,
 "nbformat_minor": 5
}
