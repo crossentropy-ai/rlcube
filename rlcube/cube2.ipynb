{
 "cells": [
  {
   "cell_type": "code",
   "execution_count": 1,
   "id": "624c83c1",
   "metadata": {},
   "outputs": [
    {
     "data": {
      "text/plain": [
       "DNN(\n",
       "  (fc_in): Linear(in_features=144, out_features=512, bias=True)\n",
       "  (residual_blocks): ModuleList(\n",
       "    (0-3): 4 x ResidualBlock(\n",
       "      (ln1): LayerNorm((512,), eps=1e-05, elementwise_affine=True)\n",
       "      (fc1): Linear(in_features=512, out_features=1024, bias=True)\n",
       "      (ln2): LayerNorm((1024,), eps=1e-05, elementwise_affine=True)\n",
       "      (fc2): Linear(in_features=1024, out_features=512, bias=True)\n",
       "    )\n",
       "  )\n",
       "  (fc_value): Sequential(\n",
       "    (0): Linear(in_features=512, out_features=64, bias=True)\n",
       "    (1): ReLU()\n",
       "    (2): Linear(in_features=64, out_features=1, bias=True)\n",
       "  )\n",
       "  (fc_policy): Sequential(\n",
       "    (0): Linear(in_features=512, out_features=64, bias=True)\n",
       "    (1): ReLU()\n",
       "    (2): Linear(in_features=64, out_features=12, bias=True)\n",
       "  )\n",
       ")"
      ]
     },
     "execution_count": 1,
     "metadata": {},
     "output_type": "execute_result"
    }
   ],
   "source": [
    "from rlcube.models.models import DNN\n",
    "from rlcube.envs.cube2 import Cube2Env\n",
    "import torch\n",
    "\n",
    "net = DNN()\n",
    "net.load(\"models/model_best.pth\")\n",
    "net.eval()"
   ]
  },
  {
   "cell_type": "code",
   "execution_count": 16,
   "id": "defde44e",
   "metadata": {},
   "outputs": [
    {
     "name": "stdout",
     "output_type": "stream",
     "text": [
      "[2, 3, 7, 6, 8, 6, 3, 2, 2, 5]\n",
      "tensor([[ 1.1924],\n",
      "        [ 0.0826],\n",
      "        [ 1.0202],\n",
      "        [ 0.0826],\n",
      "        [ 1.1121],\n",
      "        [-0.0302],\n",
      "        [-1.5963],\n",
      "        [-0.0302],\n",
      "        [-1.3707],\n",
      "        [-2.4068]], grad_fn=<AddmmBackward0>)\n"
     ]
    }
   ],
   "source": [
    "import numpy as np\n",
    "\n",
    "env = Cube2Env()\n",
    "\n",
    "actions = []\n",
    "obs = []\n",
    "for _ in range(10):\n",
    "    action = env.action_space.sample()\n",
    "    actions.append(action.item())\n",
    "    env.step(action)\n",
    "    obs.append(env.obs())\n",
    "\n",
    "obs = torch.tensor(np.array(obs), dtype=torch.float32)\n",
    "values, policies = net(obs)\n",
    "print(actions)\n",
    "print(values)"
   ]
  },
  {
   "cell_type": "code",
   "execution_count": 18,
   "id": "cae20b12",
   "metadata": {},
   "outputs": [
    {
     "name": "stderr",
     "output_type": "stream",
     "text": [
      " 14%|█▍        | 43/300 [00:00<00:02, 127.98it/s]"
     ]
    },
    {
     "name": "stdout",
     "output_type": "stream",
     "text": [
      "[4, 3, 7, 11]\n"
     ]
    },
    {
     "name": "stderr",
     "output_type": "stream",
     "text": [
      "\n"
     ]
    }
   ],
   "source": [
    "from rlcube.models.search import MonteCarloTree\n",
    "\n",
    "tree = MonteCarloTree(env.obs(), max_simulations=300)\n",
    "if tree.is_solved:\n",
    "    print([action for _, action in tree.solved_path])"
   ]
  }
 ],
 "metadata": {
  "kernelspec": {
   "display_name": ".venv",
   "language": "python",
   "name": "python3"
  },
  "language_info": {
   "codemirror_mode": {
    "name": "ipython",
    "version": 3
   },
   "file_extension": ".py",
   "mimetype": "text/x-python",
   "name": "python",
   "nbconvert_exporter": "python",
   "pygments_lexer": "ipython3",
   "version": "3.12.11"
  }
 },
 "nbformat": 4,
 "nbformat_minor": 5
}
