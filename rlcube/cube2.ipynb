{
 "cells": [
  {
   "cell_type": "code",
   "execution_count": 1,
   "id": "624c83c1",
   "metadata": {},
   "outputs": [],
   "source": [
    "import gymnasium as gym\n",
    "from envs.cube2 import Cube2\n",
    "\n",
    "\n",
    "class RewardWrapper(gym.Wrapper):\n",
    "    def __init__(self, *args, **kwargs):\n",
    "        super().__init__(*args, **kwargs)\n",
    "\n",
    "    def state(self):\n",
    "        return self.env.state\n",
    "\n",
    "    def step_count(self):\n",
    "        return self.env.step_count\n",
    "\n",
    "    def reset(self, *args, **kwargs):\n",
    "        self.env.reset(*args, **kwargs)\n",
    "        for _ in range(4):\n",
    "            self.env.step(self.env.action_space.sample())\n",
    "        self.env.step_count = 0\n",
    "        return self.env._get_obs(), {}\n",
    "\n",
    "    def step(self, action):\n",
    "        obs, reward, terminated, truncated, _ = super().step(action)\n",
    "        if terminated:\n",
    "            reward = 100\n",
    "        return obs, reward, terminated, truncated, _"
   ]
  },
  {
   "cell_type": "code",
   "execution_count": null,
   "id": "7a81c85a",
   "metadata": {},
   "outputs": [
    {
     "name": "stdout",
     "output_type": "stream",
     "text": [
      "[[3 3 0 4]\n",
      " [2 2 1 5]\n",
      " [5 5 0 0]\n",
      " [1 4 1 4]\n",
      " [4 0 2 2]\n",
      " [5 1 3 3]]\n"
     ]
    }
   ],
   "source": [
    "env = RewardWrapper(Cube2())\n",
    "obs, _ = env.reset()\n",
    "print(obs.shape)"
   ]
  }
 ],
 "metadata": {
  "kernelspec": {
   "display_name": ".venv",
   "language": "python",
   "name": "python3"
  },
  "language_info": {
   "codemirror_mode": {
    "name": "ipython",
    "version": 3
   },
   "file_extension": ".py",
   "mimetype": "text/x-python",
   "name": "python",
   "nbconvert_exporter": "python",
   "pygments_lexer": "ipython3",
   "version": "3.12.11"
  }
 },
 "nbformat": 4,
 "nbformat_minor": 5
}
